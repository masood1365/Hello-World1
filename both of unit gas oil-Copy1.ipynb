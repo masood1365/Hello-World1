{
 "cells": [
  {
   "cell_type": "code",
   "execution_count": 1,
   "id": "5d0bca57",
   "metadata": {},
   "outputs": [],
   "source": [
    "import pandas as pd\n",
    "import numpy as np\n",
    "import seaborn as sns\n",
    "import matplotlib.pyplot as plt\n",
    "import sklearn"
   ]
  },
  {
   "cell_type": "code",
   "execution_count": 2,
   "id": "c1c679d1",
   "metadata": {},
   "outputs": [],
   "source": [
    "datamma=pd.read_csv('both of unit Gas oil.csv')"
   ]
  },
  {
   "cell_type": "code",
   "execution_count": 4,
   "id": "1ea25a4c",
   "metadata": {},
   "outputs": [
    {
     "ename": "KeyError",
     "evalue": "\"['hours' 'ST MAX MW (MW)'] not found in axis\"",
     "output_type": "error",
     "traceback": [
      "\u001b[1;31m---------------------------------------------------------------------------\u001b[0m",
      "\u001b[1;31mKeyError\u001b[0m                                  Traceback (most recent call last)",
      "\u001b[1;32mC:\\Users\\M926E~1.FAT\\AppData\\Local\\Temp/ipykernel_1048/2719715602.py\u001b[0m in \u001b[0;36m<module>\u001b[1;34m\u001b[0m\n\u001b[1;32m----> 1\u001b[1;33m \u001b[0mdatamma\u001b[0m\u001b[1;33m.\u001b[0m\u001b[0mdrop\u001b[0m\u001b[1;33m(\u001b[0m\u001b[1;33m[\u001b[0m\u001b[1;34m\"hours\"\u001b[0m\u001b[1;33m,\u001b[0m\u001b[1;34m'ST MAX MW (MW)'\u001b[0m\u001b[1;33m]\u001b[0m\u001b[1;33m,\u001b[0m\u001b[0maxis\u001b[0m\u001b[1;33m=\u001b[0m\u001b[1;36m1\u001b[0m\u001b[1;33m,\u001b[0m\u001b[0minplace\u001b[0m\u001b[1;33m=\u001b[0m\u001b[1;32mTrue\u001b[0m\u001b[1;33m)\u001b[0m\u001b[1;33m\u001b[0m\u001b[1;33m\u001b[0m\u001b[0m\n\u001b[0m",
      "\u001b[1;32m~\\Anaconda3\\envs\\pycaret\\lib\\site-packages\\pandas\\util\\_decorators.py\u001b[0m in \u001b[0;36mwrapper\u001b[1;34m(*args, **kwargs)\u001b[0m\n\u001b[0;32m    309\u001b[0m                     \u001b[0mstacklevel\u001b[0m\u001b[1;33m=\u001b[0m\u001b[0mstacklevel\u001b[0m\u001b[1;33m,\u001b[0m\u001b[1;33m\u001b[0m\u001b[1;33m\u001b[0m\u001b[0m\n\u001b[0;32m    310\u001b[0m                 )\n\u001b[1;32m--> 311\u001b[1;33m             \u001b[1;32mreturn\u001b[0m \u001b[0mfunc\u001b[0m\u001b[1;33m(\u001b[0m\u001b[1;33m*\u001b[0m\u001b[0margs\u001b[0m\u001b[1;33m,\u001b[0m \u001b[1;33m**\u001b[0m\u001b[0mkwargs\u001b[0m\u001b[1;33m)\u001b[0m\u001b[1;33m\u001b[0m\u001b[1;33m\u001b[0m\u001b[0m\n\u001b[0m\u001b[0;32m    312\u001b[0m \u001b[1;33m\u001b[0m\u001b[0m\n\u001b[0;32m    313\u001b[0m         \u001b[1;32mreturn\u001b[0m \u001b[0mwrapper\u001b[0m\u001b[1;33m\u001b[0m\u001b[1;33m\u001b[0m\u001b[0m\n",
      "\u001b[1;32m~\\Anaconda3\\envs\\pycaret\\lib\\site-packages\\pandas\\core\\frame.py\u001b[0m in \u001b[0;36mdrop\u001b[1;34m(self, labels, axis, index, columns, level, inplace, errors)\u001b[0m\n\u001b[0;32m   4904\u001b[0m                 \u001b[0mweight\u001b[0m  \u001b[1;36m1.0\u001b[0m     \u001b[1;36m0.8\u001b[0m\u001b[1;33m\u001b[0m\u001b[1;33m\u001b[0m\u001b[0m\n\u001b[0;32m   4905\u001b[0m         \"\"\"\n\u001b[1;32m-> 4906\u001b[1;33m         return super().drop(\n\u001b[0m\u001b[0;32m   4907\u001b[0m             \u001b[0mlabels\u001b[0m\u001b[1;33m=\u001b[0m\u001b[0mlabels\u001b[0m\u001b[1;33m,\u001b[0m\u001b[1;33m\u001b[0m\u001b[1;33m\u001b[0m\u001b[0m\n\u001b[0;32m   4908\u001b[0m             \u001b[0maxis\u001b[0m\u001b[1;33m=\u001b[0m\u001b[0maxis\u001b[0m\u001b[1;33m,\u001b[0m\u001b[1;33m\u001b[0m\u001b[1;33m\u001b[0m\u001b[0m\n",
      "\u001b[1;32m~\\Anaconda3\\envs\\pycaret\\lib\\site-packages\\pandas\\core\\generic.py\u001b[0m in \u001b[0;36mdrop\u001b[1;34m(self, labels, axis, index, columns, level, inplace, errors)\u001b[0m\n\u001b[0;32m   4148\u001b[0m         \u001b[1;32mfor\u001b[0m \u001b[0maxis\u001b[0m\u001b[1;33m,\u001b[0m \u001b[0mlabels\u001b[0m \u001b[1;32min\u001b[0m \u001b[0maxes\u001b[0m\u001b[1;33m.\u001b[0m\u001b[0mitems\u001b[0m\u001b[1;33m(\u001b[0m\u001b[1;33m)\u001b[0m\u001b[1;33m:\u001b[0m\u001b[1;33m\u001b[0m\u001b[1;33m\u001b[0m\u001b[0m\n\u001b[0;32m   4149\u001b[0m             \u001b[1;32mif\u001b[0m \u001b[0mlabels\u001b[0m \u001b[1;32mis\u001b[0m \u001b[1;32mnot\u001b[0m \u001b[1;32mNone\u001b[0m\u001b[1;33m:\u001b[0m\u001b[1;33m\u001b[0m\u001b[1;33m\u001b[0m\u001b[0m\n\u001b[1;32m-> 4150\u001b[1;33m                 \u001b[0mobj\u001b[0m \u001b[1;33m=\u001b[0m \u001b[0mobj\u001b[0m\u001b[1;33m.\u001b[0m\u001b[0m_drop_axis\u001b[0m\u001b[1;33m(\u001b[0m\u001b[0mlabels\u001b[0m\u001b[1;33m,\u001b[0m \u001b[0maxis\u001b[0m\u001b[1;33m,\u001b[0m \u001b[0mlevel\u001b[0m\u001b[1;33m=\u001b[0m\u001b[0mlevel\u001b[0m\u001b[1;33m,\u001b[0m \u001b[0merrors\u001b[0m\u001b[1;33m=\u001b[0m\u001b[0merrors\u001b[0m\u001b[1;33m)\u001b[0m\u001b[1;33m\u001b[0m\u001b[1;33m\u001b[0m\u001b[0m\n\u001b[0m\u001b[0;32m   4151\u001b[0m \u001b[1;33m\u001b[0m\u001b[0m\n\u001b[0;32m   4152\u001b[0m         \u001b[1;32mif\u001b[0m \u001b[0minplace\u001b[0m\u001b[1;33m:\u001b[0m\u001b[1;33m\u001b[0m\u001b[1;33m\u001b[0m\u001b[0m\n",
      "\u001b[1;32m~\\Anaconda3\\envs\\pycaret\\lib\\site-packages\\pandas\\core\\generic.py\u001b[0m in \u001b[0;36m_drop_axis\u001b[1;34m(self, labels, axis, level, errors)\u001b[0m\n\u001b[0;32m   4183\u001b[0m                 \u001b[0mnew_axis\u001b[0m \u001b[1;33m=\u001b[0m \u001b[0maxis\u001b[0m\u001b[1;33m.\u001b[0m\u001b[0mdrop\u001b[0m\u001b[1;33m(\u001b[0m\u001b[0mlabels\u001b[0m\u001b[1;33m,\u001b[0m \u001b[0mlevel\u001b[0m\u001b[1;33m=\u001b[0m\u001b[0mlevel\u001b[0m\u001b[1;33m,\u001b[0m \u001b[0merrors\u001b[0m\u001b[1;33m=\u001b[0m\u001b[0merrors\u001b[0m\u001b[1;33m)\u001b[0m\u001b[1;33m\u001b[0m\u001b[1;33m\u001b[0m\u001b[0m\n\u001b[0;32m   4184\u001b[0m             \u001b[1;32melse\u001b[0m\u001b[1;33m:\u001b[0m\u001b[1;33m\u001b[0m\u001b[1;33m\u001b[0m\u001b[0m\n\u001b[1;32m-> 4185\u001b[1;33m                 \u001b[0mnew_axis\u001b[0m \u001b[1;33m=\u001b[0m \u001b[0maxis\u001b[0m\u001b[1;33m.\u001b[0m\u001b[0mdrop\u001b[0m\u001b[1;33m(\u001b[0m\u001b[0mlabels\u001b[0m\u001b[1;33m,\u001b[0m \u001b[0merrors\u001b[0m\u001b[1;33m=\u001b[0m\u001b[0merrors\u001b[0m\u001b[1;33m)\u001b[0m\u001b[1;33m\u001b[0m\u001b[1;33m\u001b[0m\u001b[0m\n\u001b[0m\u001b[0;32m   4186\u001b[0m             \u001b[0mresult\u001b[0m \u001b[1;33m=\u001b[0m \u001b[0mself\u001b[0m\u001b[1;33m.\u001b[0m\u001b[0mreindex\u001b[0m\u001b[1;33m(\u001b[0m\u001b[1;33m**\u001b[0m\u001b[1;33m{\u001b[0m\u001b[0maxis_name\u001b[0m\u001b[1;33m:\u001b[0m \u001b[0mnew_axis\u001b[0m\u001b[1;33m}\u001b[0m\u001b[1;33m)\u001b[0m\u001b[1;33m\u001b[0m\u001b[1;33m\u001b[0m\u001b[0m\n\u001b[0;32m   4187\u001b[0m \u001b[1;33m\u001b[0m\u001b[0m\n",
      "\u001b[1;32m~\\Anaconda3\\envs\\pycaret\\lib\\site-packages\\pandas\\core\\indexes\\base.py\u001b[0m in \u001b[0;36mdrop\u001b[1;34m(self, labels, errors)\u001b[0m\n\u001b[0;32m   6015\u001b[0m         \u001b[1;32mif\u001b[0m \u001b[0mmask\u001b[0m\u001b[1;33m.\u001b[0m\u001b[0many\u001b[0m\u001b[1;33m(\u001b[0m\u001b[1;33m)\u001b[0m\u001b[1;33m:\u001b[0m\u001b[1;33m\u001b[0m\u001b[1;33m\u001b[0m\u001b[0m\n\u001b[0;32m   6016\u001b[0m             \u001b[1;32mif\u001b[0m \u001b[0merrors\u001b[0m \u001b[1;33m!=\u001b[0m \u001b[1;34m\"ignore\"\u001b[0m\u001b[1;33m:\u001b[0m\u001b[1;33m\u001b[0m\u001b[1;33m\u001b[0m\u001b[0m\n\u001b[1;32m-> 6017\u001b[1;33m                 \u001b[1;32mraise\u001b[0m \u001b[0mKeyError\u001b[0m\u001b[1;33m(\u001b[0m\u001b[1;34mf\"{labels[mask]} not found in axis\"\u001b[0m\u001b[1;33m)\u001b[0m\u001b[1;33m\u001b[0m\u001b[1;33m\u001b[0m\u001b[0m\n\u001b[0m\u001b[0;32m   6018\u001b[0m             \u001b[0mindexer\u001b[0m \u001b[1;33m=\u001b[0m \u001b[0mindexer\u001b[0m\u001b[1;33m[\u001b[0m\u001b[1;33m~\u001b[0m\u001b[0mmask\u001b[0m\u001b[1;33m]\u001b[0m\u001b[1;33m\u001b[0m\u001b[1;33m\u001b[0m\u001b[0m\n\u001b[0;32m   6019\u001b[0m         \u001b[1;32mreturn\u001b[0m \u001b[0mself\u001b[0m\u001b[1;33m.\u001b[0m\u001b[0mdelete\u001b[0m\u001b[1;33m(\u001b[0m\u001b[0mindexer\u001b[0m\u001b[1;33m)\u001b[0m\u001b[1;33m\u001b[0m\u001b[1;33m\u001b[0m\u001b[0m\n",
      "\u001b[1;31mKeyError\u001b[0m: \"['hours' 'ST MAX MW (MW)'] not found in axis\""
     ]
    }
   ],
   "source": [
    "datamma.drop([\"hours\",'ST MAX MW (MW)'],axis=1,inplace=True)"
   ]
  },
  {
   "cell_type": "code",
   "execution_count": 5,
   "id": "5683321a",
   "metadata": {},
   "outputs": [
    {
     "data": {
      "text/html": [
       "<div>\n",
       "<style scoped>\n",
       "    .dataframe tbody tr th:only-of-type {\n",
       "        vertical-align: middle;\n",
       "    }\n",
       "\n",
       "    .dataframe tbody tr th {\n",
       "        vertical-align: top;\n",
       "    }\n",
       "\n",
       "    .dataframe thead th {\n",
       "        text-align: right;\n",
       "    }\n",
       "</style>\n",
       "<table border=\"1\" class=\"dataframe\">\n",
       "  <thead>\n",
       "    <tr style=\"text-align: right;\">\n",
       "      <th></th>\n",
       "      <th>Unnamed: 0</th>\n",
       "      <th>AMBIENT PRESSURE</th>\n",
       "      <th>Ambient Tepm</th>\n",
       "      <th>CONDENSED PRESSURE</th>\n",
       "      <th>Vaccume pressure</th>\n",
       "      <th>ST Max MW Avai</th>\n",
       "      <th>Active Power ST</th>\n",
       "      <th>Flow boiler 1</th>\n",
       "      <th>Gas pressure G11</th>\n",
       "      <th>Active power G11</th>\n",
       "      <th>OTC G11</th>\n",
       "      <th>Max MW Avai G11</th>\n",
       "      <th>Flow boiler 2</th>\n",
       "      <th>Gas pressure G12</th>\n",
       "      <th>Active power G12</th>\n",
       "      <th>OTC G12</th>\n",
       "      <th>Max MW Avai G12</th>\n",
       "      <th>sum of active power</th>\n",
       "    </tr>\n",
       "  </thead>\n",
       "  <tbody>\n",
       "    <tr>\n",
       "      <th>0</th>\n",
       "      <td>13:15:00</td>\n",
       "      <td>894.648</td>\n",
       "      <td>7.182</td>\n",
       "      <td>13.561</td>\n",
       "      <td>127.105</td>\n",
       "      <td>151.974</td>\n",
       "      <td>151.886</td>\n",
       "      <td>2195.436</td>\n",
       "      <td>0</td>\n",
       "      <td>142.375</td>\n",
       "      <td>540.895</td>\n",
       "      <td>143.868</td>\n",
       "      <td>2187.175</td>\n",
       "      <td>0</td>\n",
       "      <td>142.321</td>\n",
       "      <td>541.943</td>\n",
       "      <td>142.119</td>\n",
       "      <td>284.696</td>\n",
       "    </tr>\n",
       "    <tr>\n",
       "      <th>1</th>\n",
       "      <td>13:30:00</td>\n",
       "      <td>895.114</td>\n",
       "      <td>7.305</td>\n",
       "      <td>13.485</td>\n",
       "      <td>126.432</td>\n",
       "      <td>151.968</td>\n",
       "      <td>151.684</td>\n",
       "      <td>2193.759</td>\n",
       "      <td>0</td>\n",
       "      <td>141.932</td>\n",
       "      <td>541.509</td>\n",
       "      <td>143.713</td>\n",
       "      <td>2188.180</td>\n",
       "      <td>0</td>\n",
       "      <td>141.788</td>\n",
       "      <td>541.943</td>\n",
       "      <td>141.963</td>\n",
       "      <td>283.720</td>\n",
       "    </tr>\n",
       "    <tr>\n",
       "      <th>2</th>\n",
       "      <td>13:45:00</td>\n",
       "      <td>895.631</td>\n",
       "      <td>7.429</td>\n",
       "      <td>13.531</td>\n",
       "      <td>126.849</td>\n",
       "      <td>151.954</td>\n",
       "      <td>151.656</td>\n",
       "      <td>2194.453</td>\n",
       "      <td>0</td>\n",
       "      <td>141.812</td>\n",
       "      <td>541.420</td>\n",
       "      <td>143.713</td>\n",
       "      <td>2187.266</td>\n",
       "      <td>0</td>\n",
       "      <td>141.820</td>\n",
       "      <td>541.943</td>\n",
       "      <td>142.020</td>\n",
       "      <td>283.632</td>\n",
       "    </tr>\n",
       "    <tr>\n",
       "      <th>3</th>\n",
       "      <td>14:00:00</td>\n",
       "      <td>895.903</td>\n",
       "      <td>7.403</td>\n",
       "      <td>13.462</td>\n",
       "      <td>126.186</td>\n",
       "      <td>151.840</td>\n",
       "      <td>151.665</td>\n",
       "      <td>2193.118</td>\n",
       "      <td>0</td>\n",
       "      <td>141.853</td>\n",
       "      <td>541.626</td>\n",
       "      <td>143.736</td>\n",
       "      <td>2187.597</td>\n",
       "      <td>0</td>\n",
       "      <td>141.727</td>\n",
       "      <td>541.943</td>\n",
       "      <td>142.023</td>\n",
       "      <td>283.580</td>\n",
       "    </tr>\n",
       "    <tr>\n",
       "      <th>4</th>\n",
       "      <td>14:15:00</td>\n",
       "      <td>896.124</td>\n",
       "      <td>7.588</td>\n",
       "      <td>13.573</td>\n",
       "      <td>127.189</td>\n",
       "      <td>151.937</td>\n",
       "      <td>151.655</td>\n",
       "      <td>2191.821</td>\n",
       "      <td>0</td>\n",
       "      <td>141.884</td>\n",
       "      <td>541.699</td>\n",
       "      <td>143.868</td>\n",
       "      <td>2188.054</td>\n",
       "      <td>0</td>\n",
       "      <td>141.895</td>\n",
       "      <td>541.943</td>\n",
       "      <td>142.188</td>\n",
       "      <td>283.779</td>\n",
       "    </tr>\n",
       "  </tbody>\n",
       "</table>\n",
       "</div>"
      ],
      "text/plain": [
       "  Unnamed: 0  AMBIENT PRESSURE  Ambient Tepm  CONDENSED PRESSURE  \\\n",
       "0   13:15:00           894.648         7.182              13.561   \n",
       "1   13:30:00           895.114         7.305              13.485   \n",
       "2   13:45:00           895.631         7.429              13.531   \n",
       "3   14:00:00           895.903         7.403              13.462   \n",
       "4   14:15:00           896.124         7.588              13.573   \n",
       "\n",
       "   Vaccume pressure  ST Max MW Avai  Active Power ST  Flow boiler 1  \\\n",
       "0           127.105         151.974          151.886       2195.436   \n",
       "1           126.432         151.968          151.684       2193.759   \n",
       "2           126.849         151.954          151.656       2194.453   \n",
       "3           126.186         151.840          151.665       2193.118   \n",
       "4           127.189         151.937          151.655       2191.821   \n",
       "\n",
       "   Gas pressure G11  Active power G11  OTC G11  Max MW Avai G11  \\\n",
       "0                 0           142.375  540.895          143.868   \n",
       "1                 0           141.932  541.509          143.713   \n",
       "2                 0           141.812  541.420          143.713   \n",
       "3                 0           141.853  541.626          143.736   \n",
       "4                 0           141.884  541.699          143.868   \n",
       "\n",
       "   Flow boiler 2  Gas pressure G12  Active power G12  OTC G12  \\\n",
       "0       2187.175                 0           142.321  541.943   \n",
       "1       2188.180                 0           141.788  541.943   \n",
       "2       2187.266                 0           141.820  541.943   \n",
       "3       2187.597                 0           141.727  541.943   \n",
       "4       2188.054                 0           141.895  541.943   \n",
       "\n",
       "   Max MW Avai G12  sum of active power  \n",
       "0          142.119              284.696  \n",
       "1          141.963              283.720  \n",
       "2          142.020              283.632  \n",
       "3          142.023              283.580  \n",
       "4          142.188              283.779  "
      ]
     },
     "execution_count": 5,
     "metadata": {},
     "output_type": "execute_result"
    }
   ],
   "source": [
    "datamma.head()"
   ]
  },
  {
   "cell_type": "code",
   "execution_count": 6,
   "id": "9d057d70",
   "metadata": {},
   "outputs": [],
   "source": [
    "x=datamma[['Vaccume pressure','sum of active power']]\n",
    "y=datamma['Active Power ST']"
   ]
  },
  {
   "cell_type": "code",
   "execution_count": 7,
   "id": "81daa985",
   "metadata": {},
   "outputs": [],
   "source": [
    "from sklearn.model_selection import train_test_split\n",
    "x_train,x_test,y_train,y_test=train_test_split(x,y,test_size=0.25,random_state=44)"
   ]
  },
  {
   "cell_type": "code",
   "execution_count": 8,
   "id": "02eec484",
   "metadata": {},
   "outputs": [],
   "source": [
    "from sklearn.linear_model import LinearRegression"
   ]
  },
  {
   "cell_type": "code",
   "execution_count": 9,
   "id": "563601b4",
   "metadata": {},
   "outputs": [
    {
     "data": {
      "text/plain": [
       "LinearRegression()"
      ]
     },
     "execution_count": 9,
     "metadata": {},
     "output_type": "execute_result"
    }
   ],
   "source": [
    "slr=LinearRegression()\n",
    "slr.fit(x_train,y_train)"
   ]
  },
  {
   "cell_type": "code",
   "execution_count": 10,
   "id": "ab9c5f20",
   "metadata": {},
   "outputs": [
    {
     "data": {
      "text/plain": [
       "121.54125036493767"
      ]
     },
     "execution_count": 10,
     "metadata": {},
     "output_type": "execute_result"
    }
   ],
   "source": [
    "slr.intercept_"
   ]
  },
  {
   "cell_type": "code",
   "execution_count": 11,
   "id": "97b92ad7",
   "metadata": {},
   "outputs": [
    {
     "data": {
      "text/plain": [
       "array([-0.07719203,  0.14068233])"
      ]
     },
     "execution_count": 11,
     "metadata": {},
     "output_type": "execute_result"
    }
   ],
   "source": [
    "slr.coef_"
   ]
  },
  {
   "cell_type": "code",
   "execution_count": 12,
   "id": "91f7d5d1",
   "metadata": {},
   "outputs": [],
   "source": [
    "from sklearn import metrics"
   ]
  },
  {
   "cell_type": "code",
   "execution_count": 13,
   "id": "5652547b",
   "metadata": {},
   "outputs": [
    {
     "name": "stdout",
     "output_type": "stream",
     "text": [
      "R^2: 0.7400048678710971\n",
      "MAE: 0.2485378885389812\n",
      "MSE: 0.13377952863511364\n",
      "RMSE: 0.36575883944904686\n"
     ]
    }
   ],
   "source": [
    "y_pred = slr.predict(x_train)\n",
    "print ('R^2:', metrics.r2_score(y_train,y_pred))\n",
    "print('MAE:',metrics.mean_absolute_error(y_train,y_pred))\n",
    "print('MSE:',metrics.mean_squared_error(y_train,y_pred))\n",
    "print('RMSE:',np.sqrt(metrics.mean_squared_error(y_train,y_pred)))"
   ]
  },
  {
   "cell_type": "code",
   "execution_count": 14,
   "id": "103e72c0",
   "metadata": {},
   "outputs": [],
   "source": [
    "corr=datamma.corr()"
   ]
  },
  {
   "cell_type": "code",
   "execution_count": 15,
   "id": "15f85c55",
   "metadata": {},
   "outputs": [
    {
     "ename": "AttributeError",
     "evalue": "module 'seaborn' has no attribute 'heatplot'",
     "output_type": "error",
     "traceback": [
      "\u001b[1;31m---------------------------------------------------------------------------\u001b[0m",
      "\u001b[1;31mAttributeError\u001b[0m                            Traceback (most recent call last)",
      "\u001b[1;32mC:\\Users\\M926E~1.FAT\\AppData\\Local\\Temp/ipykernel_1048/585253587.py\u001b[0m in \u001b[0;36m<module>\u001b[1;34m\u001b[0m\n\u001b[1;32m----> 1\u001b[1;33m \u001b[0msns\u001b[0m\u001b[1;33m.\u001b[0m\u001b[0mheatplot\u001b[0m\u001b[1;33m.\u001b[0m\u001b[0mcorr\u001b[0m\u001b[1;33m\u001b[0m\u001b[1;33m\u001b[0m\u001b[0m\n\u001b[0m",
      "\u001b[1;31mAttributeError\u001b[0m: module 'seaborn' has no attribute 'heatplot'"
     ]
    }
   ],
   "source": [
    "sns.heatplot.corr"
   ]
  },
  {
   "cell_type": "code",
   "execution_count": 17,
   "id": "58d410f5",
   "metadata": {},
   "outputs": [
    {
     "data": {
      "image/png": "[encoded data removed]",
      "text/plain": [
       "<Figure size 360x360 with 1 Axes>"
      ]
     },
     "metadata": {
      "needs_background": "light"
     },
     "output_type": "display_data"
    }
   ],
   "source": [
    "sns.displot(((y_train-y_pred)/y_train)*100)\n",
    "plt.title('Hisogram of Residuals')\n",
    "plt.xlabel('Residuals %')\n",
    "plt.ylabel('Frequency')\n",
    "plt.show()"
   ]
  },
  {
   "cell_type": "code",
   "execution_count": 18,
   "id": "2f23c777",
   "metadata": {},
   "outputs": [
    {
     "data": {
      "text/html": [
       "<div>\n",
       "<style scoped>\n",
       "    .dataframe tbody tr th:only-of-type {\n",
       "        vertical-align: middle;\n",
       "    }\n",
       "\n",
       "    .dataframe tbody tr th {\n",
       "        vertical-align: top;\n",
       "    }\n",
       "\n",
       "    .dataframe thead th {\n",
       "        text-align: right;\n",
       "    }\n",
       "</style>\n",
       "<table border=\"1\" class=\"dataframe\">\n",
       "  <thead>\n",
       "    <tr style=\"text-align: right;\">\n",
       "      <th></th>\n",
       "      <th>Attribute</th>\n",
       "      <th>coeffcients</th>\n",
       "    </tr>\n",
       "  </thead>\n",
       "  <tbody>\n",
       "    <tr>\n",
       "      <th>0</th>\n",
       "      <td>Vaccume pressure</td>\n",
       "      <td>-0.077192</td>\n",
       "    </tr>\n",
       "    <tr>\n",
       "      <th>1</th>\n",
       "      <td>sum of active power</td>\n",
       "      <td>0.140682</td>\n",
       "    </tr>\n",
       "  </tbody>\n",
       "</table>\n",
       "</div>"
      ],
      "text/plain": [
       "             Attribute coeffcients\n",
       "0     Vaccume pressure   -0.077192\n",
       "1  sum of active power    0.140682"
      ]
     },
     "execution_count": 18,
     "metadata": {},
     "output_type": "execute_result"
    }
   ],
   "source": [
    "coeffcients = pd.DataFrame([x_train.columns,slr.coef_]).T\n",
    "coeffcients=coeffcients.rename(columns={0:'Attribute', 1:'coeffcients'})\n",
    "coeffcients"
   ]
  },
  {
   "cell_type": "code",
   "execution_count": 19,
   "id": "4b4f1292",
   "metadata": {},
   "outputs": [
    {
     "name": "stdout",
     "output_type": "stream",
     "text": [
      "R^2: 0.7858614769184624\n",
      "MAE: 0.24566430008024787\n",
      "MSE: 0.12540965562563564\n",
      "RMSE: 0.35413225725092545\n"
     ]
    }
   ],
   "source": [
    "y_test_prediction= slr.predict(x_test)\n",
    "print ('R^2:', metrics.r2_score(y_test,y_test_prediction))\n",
    "print('MAE:',metrics.mean_absolute_error(y_test,y_test_prediction))\n",
    "print('MSE:',metrics.mean_squared_error(y_test,y_test_prediction))\n",
    "print('RMSE:',np.sqrt(metrics.mean_squared_error(y_test,y_test_prediction)))"
   ]
  },
  {
   "cell_type": "code",
   "execution_count": 21,
   "id": "7930ecf2",
   "metadata": {},
   "outputs": [
    {
     "data": {
      "image/png": "[encoded data removed]",
      "text/plain": [
       "<Figure size 360x360 with 1 Axes>"
      ]
     },
     "metadata": {
      "needs_background": "light"
     },
     "output_type": "display_data"
    }
   ],
   "source": [
    "sns.displot(((y_test-y_test_prediction)/y_test)*100)\n",
    "plt.title('Hisogram of Residuals')\n",
    "plt.xlabel('Residuals %')\n",
    "plt.ylabel('Frequency')\n",
    "plt.show()"
   ]
  },
  {
   "cell_type": "code",
   "execution_count": null,
   "id": "86dfc6b9",
   "metadata": {},
   "outputs": [],
   "source": []
  }
 ],
 "metadata": {
  "kernelspec": {
   "display_name": "Python 3 (ipykernel)",
   "language": "python",
   "name": "python3"
  },
  "language_info": {
   "codemirror_mode": {
    "name": "ipython",
    "version": 3
   },
   "file_extension": ".py",
   "mimetype": "text/x-python",
   "name": "python",
   "nbconvert_exporter": "python",
   "pygments_lexer": "ipython3",
   "version": "3.8.12"
  }
 },
 "nbformat": 4,
 "nbformat_minor": 5
}
