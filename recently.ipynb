{
 "cells": [
  {
   "cell_type": "code",
   "execution_count": 1,
   "id": "3bd9645e-2679-4b18-9880-791cbc378177",
   "metadata": {
    "tags": []
   },
   "outputs": [],
   "source": [
    "import pandas as pd"
   ]
  },
  {
   "cell_type": "code",
   "execution_count": 1,
   "id": "4832a0e8-5668-4fcf-9f38-53e893929fa5",
   "metadata": {
    "tags": []
   },
   "outputs": [],
   "source": [
    "import numpy as np"
   ]
  },
  {
   "cell_type": "code",
   "execution_count": 2,
   "id": "837d5671-2d17-446b-824d-a58025cb5a4e",
   "metadata": {
    "tags": []
   },
   "outputs": [],
   "source": [
    "a = 2"
   ]
  },
  {
   "cell_type": "code",
   "execution_count": 3,
   "id": "34a3bdf1-1dfc-4219-b81c-39d8ec235c23",
   "metadata": {
    "tags": []
   },
   "outputs": [],
   "source": [
    "b= 3"
   ]
  },
  {
   "cell_type": "code",
   "execution_count": 4,
   "id": "03a2a8cd-2f5e-45af-b8ea-16b93e12dc64",
   "metadata": {
    "tags": []
   },
   "outputs": [
    {
     "data": {
      "text/plain": [
       "-1"
      ]
     },
     "execution_count": 4,
     "metadata": {},
     "output_type": "execute_result"
    }
   ],
   "source": [
    "a -b"
   ]
  },
  {
   "cell_type": "code",
   "execution_count": null,
   "id": "139a64f4-3671-4af9-8a8a-55899e140b4f",
   "metadata": {},
   "outputs": [],
   "source": [
    "df = raw_data.copy()\n",
    "\n",
    "df['Admitted'] = df['Admitted'].map({'No': 0, 'Yes': 1})\n",
    "\n",
    "df['Gender'] = df['Gender'].map({'Male': 0, 'Female': 1})\n",
    "\n",
    "df = df.drop(\"Random\", axis=1)\n",
    "\n",
    "df"
   ]
  }
 ],
 "metadata": {
  "kernelspec": {
   "display_name": "Python 3 (ipykernel)",
   "language": "python",
   "name": "python3"
  },
  "language_info": {
   "codemirror_mode": {
    "name": "ipython",
    "version": 3
   },
   "file_extension": ".py",
   "mimetype": "text/x-python",
   "name": "python",
   "nbconvert_exporter": "python",
   "pygments_lexer": "ipython3",
   "version": "3.8.16"
  }
 },
 "nbformat": 4,
 "nbformat_minor": 5
}
